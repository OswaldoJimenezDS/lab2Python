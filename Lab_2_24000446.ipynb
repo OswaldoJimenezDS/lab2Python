{
 "cells": [
  {
   "cell_type": "markdown",
   "id": "e23072c5-34b3-496e-91c1-f4f26367db52",
   "metadata": {},
   "source": [
    "# Laboratorio # 2- Sintaxis y Estructuras de Datos"
   ]
  },
  {
   "cell_type": "markdown",
   "id": "a0a35ab3-db00-437e-9e74-83b5569be458",
   "metadata": {},
   "source": [
    "### 1."
   ]
  },
  {
   "cell_type": "code",
   "execution_count": 1,
   "id": "a717b79d-c94a-4974-b08c-3ff1b28467f8",
   "metadata": {},
   "outputs": [],
   "source": [
    "#Función que retorna tiempo en función de segundos\n",
    "def transforma_segundos(segundos): \n",
    "    try:\n",
    "        if segundos < 0:\n",
    "            print('No se permiten valores negativos')\n",
    "        else:\n",
    "            horas = int(segundos/3600)\n",
    "            minutos = abs((horas*60)-int(segundos/60))\n",
    "            seg = int(segundos - (horas*3600) - (minutos*60))\n",
    "            print(f'Horas: {horas}, Minutos: {minutos}, Segundos: {seg}')\n",
    "    except ValueError:\n",
    "        print('No se permiten letras')\n",
    "    except TypeError:\n",
    "        print('No se permiten letras')"
   ]
  },
  {
   "cell_type": "code",
   "execution_count": 2,
   "id": "db039e89-5402-4de1-a1dd-ca52573f84ce",
   "metadata": {},
   "outputs": [
    {
     "name": "stdout",
     "output_type": "stream",
     "text": [
      "Horas: 1, Minutos: 0, Segundos: 0\n"
     ]
    }
   ],
   "source": [
    "transforma_segundos(3600)"
   ]
  },
  {
   "cell_type": "markdown",
   "id": "997625f0-e780-4e2e-8ce7-36ec60ad36e9",
   "metadata": {},
   "source": [
    "### 2."
   ]
  },
  {
   "cell_type": "code",
   "execution_count": 93,
   "id": "98feea4d-982a-4c3a-86eb-8ce27d825cb4",
   "metadata": {},
   "outputs": [],
   "source": [
    "#Función para mostrar patrones triangulares\n",
    "def patrones_triangulares(filas, caracter='*'): \n",
    "    espacios = 8\n",
    "    for i in range(1,filas+1,1):\n",
    "        print(i * caracter,((espacios - i)*2) * ' ', i * caracter, (espacios+i) * ' ', ((filas+1)-i) * caracter,(espacios - i) * ' ', i * caracter)"
   ]
  },
  {
   "cell_type": "code",
   "execution_count": 94,
   "id": "38c47b71-bf12-4ccf-aad7-24cf68ce94da",
   "metadata": {},
   "outputs": [
    {
     "name": "stdout",
     "output_type": "stream",
     "text": [
      "*                *           *****         *\n",
      "**              **            ****        **\n",
      "***            ***             ***       ***\n",
      "****          ****              **      ****\n",
      "*****        *****               *     *****\n"
     ]
    }
   ],
   "source": [
    "patrones_triangulares(5,'*')"
   ]
  },
  {
   "cell_type": "markdown",
   "id": "ca02cdc2-cdc1-410b-b8bc-3b9b30cc95bb",
   "metadata": {},
   "source": [
    "### 3."
   ]
  },
  {
   "cell_type": "code",
   "execution_count": 3,
   "id": "fd67ba9c-5862-4818-954e-b418cb48ef92",
   "metadata": {},
   "outputs": [],
   "source": [
    "#Función que retorna cuantos años, meses y días se tienen desde la fecha de nacimiento\n",
    "from datetime import datetime\n",
    "from dateutil import relativedelta\n",
    "def calcula_edad():\n",
    "    try:     \n",
    "        dia = int(input(\"Ingrese día de nacimiento (Ej. 11): \"))\n",
    "        if dia > 31 or dia < 1:\n",
    "          print(\"Día no válido\")\n",
    "          return\n",
    "        mes = int(input(\"Ingrese mes de nacimiento (Ej. 01): \"))\n",
    "        if mes > 12 or mes < 1:\n",
    "          print(\"Mes no válido\")\n",
    "          return\n",
    "        anio = int(input(\"Ingrese año de nacimento (Ej. 1983): \"))\n",
    "        if anio > datetime.now().year  or anio < 1:\n",
    "          print(\"Año no válido\")\n",
    "          return\n",
    "        fechanacimiento = datetime(anio,mes, dia, 12, 00,00)\n",
    "        diffechas = datetime.now() - fechanacimiento\n",
    "        edadanios = int((diffechas).days / 365.25)\n",
    "        edadmeses = datetime.now().month - fechanacimiento.month\n",
    "        edaddias = relativedelta.relativedelta(datetime.now(),fechanacimiento).days\n",
    "        print(f'Usted tiene {edadanios} años, {edadmeses} meses, {edaddias} días')\n",
    "    except ValueError:\n",
    "        print('No debe dejar ningún campo en blanco y no debe usar letras')"
   ]
  },
  {
   "cell_type": "code",
   "execution_count": 5,
   "id": "c0f36fb6-6b70-4257-9b5c-b531fdd53bae",
   "metadata": {},
   "outputs": [
    {
     "name": "stdin",
     "output_type": "stream",
     "text": [
      "Ingrese día de nacimiento (Ej. 11):  11\n",
      "Ingrese mes de nacimiento (Ej. 01):  01\n",
      "Ingrese año de nacimento (Ej. 1983):  2024\n"
     ]
    },
    {
     "name": "stdout",
     "output_type": "stream",
     "text": [
      "Usted tiene 0 años, 1 meses, 6 días\n"
     ]
    }
   ],
   "source": [
    "calcula_edad()"
   ]
  },
  {
   "cell_type": "markdown",
   "id": "2de3fd35-b163-4492-9305-5dee34a12452",
   "metadata": {},
   "source": [
    "### 4."
   ]
  },
  {
   "cell_type": "code",
   "execution_count": 54,
   "id": "80cbb778-031d-4092-a947-0ddf597f8cd7",
   "metadata": {},
   "outputs": [],
   "source": [
    "#Función que dada una tupla de datos retona un string de estos\n",
    "def retorna_string():\n",
    "    try:\n",
    "        tupla = input('Ingrese una tupla de datos (Ej. (1,2,3) ó (\"a\",\"b\",\"c\"))')\n",
    "        if not('(' in tupla) or not(')' in tupla):\n",
    "            print('Debe ingresar los datos entre \"(\" \")\"')\n",
    "            return\n",
    "        cadena = ''\n",
    "        for i in range(1,len(tupla)-1,1):\n",
    "            cadena += str(tupla[i].replace('\"',\"\"))\n",
    "        print(cadena)\n",
    "    except:\n",
    "        print(\"Ocurrio un error, intentelo de nuevo\")"
   ]
  },
  {
   "cell_type": "code",
   "execution_count": 55,
   "id": "c2a5def3-2b1e-4648-828e-6bc862f7eb63",
   "metadata": {},
   "outputs": [
    {
     "name": "stdin",
     "output_type": "stream",
     "text": [
      "Ingrese una tupla de datos (Ej. (1,2,3) ó (\"a\",\"b\",\"c\")) (1,2,3)\n"
     ]
    },
    {
     "name": "stdout",
     "output_type": "stream",
     "text": [
      "1,2,3\n"
     ]
    }
   ],
   "source": [
    "retorna_string()"
   ]
  },
  {
   "cell_type": "markdown",
   "id": "dc10a734-0a5a-46da-a1d3-aefa52891096",
   "metadata": {},
   "source": [
    "### 5. "
   ]
  },
  {
   "cell_type": "code",
   "execution_count": 56,
   "id": "602c7ba1-cf8b-45e6-a4be-50cf0af414b1",
   "metadata": {},
   "outputs": [],
   "source": [
    "#Función que dada una lista de tuplas, elimina las tuplas vacías\n",
    "def elimina_tuplas_vacias(arreglo_tuplas):\n",
    "    try:\n",
    "        nuevo_arreglo = []\n",
    "        for i in arreglo_tuplas:\n",
    "            tupla = i\n",
    "            if len(i) == 0:\n",
    "                continue\n",
    "            nuevo_arreglo.append(i)\n",
    "        print(nuevo_arreglo)\n",
    "    except:\n",
    "        print(\"Ocurrio un error, intentelo de nuevo\")"
   ]
  },
  {
   "cell_type": "code",
   "execution_count": 57,
   "id": "913f6d08-c1eb-4041-8570-ad1b8fab53e3",
   "metadata": {},
   "outputs": [
    {
     "name": "stdout",
     "output_type": "stream",
     "text": [
      "[(1, 2, 3), ('a', 'b', 'c')]\n"
     ]
    }
   ],
   "source": [
    "elimina_tuplas_vacias([(),(),(1,2,3),(\"a\",\"b\",\"c\")])"
   ]
  },
  {
   "cell_type": "markdown",
   "id": "bf6be4a0-1818-4f45-a44c-e38451d261a0",
   "metadata": {},
   "source": [
    "### 6. "
   ]
  },
  {
   "cell_type": "code",
   "execution_count": 102,
   "id": "932d5461-6e8e-4eeb-9989-ed0980791baf",
   "metadata": {},
   "outputs": [],
   "source": [
    "#Función que dada una tupla de tuplas de números, retorna una nueva con el promedio de las anteriores\n",
    "def retorna_promediotuplas(tupla_de_tuplas):\n",
    "    try:\n",
    "        tupla_promedios = (sum(tuplaP)/len(tuplaP) for tuplaP in tupla_de_tuplas)\n",
    "        print(tuple(list(tupla_promedios)))\n",
    "    except:\n",
    "        print(\"Ocurrio un error, intentelo de nuevo\")"
   ]
  },
  {
   "cell_type": "code",
   "execution_count": 95,
   "id": "295894ec-25d1-4d0e-8063-ff3b4e8a7f4b",
   "metadata": {},
   "outputs": [
    {
     "name": "stdout",
     "output_type": "stream",
     "text": [
      "(2.0, 5.0, 8.0)\n"
     ]
    }
   ],
   "source": [
    "retorna_promediotuplas(((1,2,3),(4,5,6),(7,8,9)))"
   ]
  },
  {
   "cell_type": "markdown",
   "id": "ddc381c0-6f00-466b-90d4-01030b0f5017",
   "metadata": {},
   "source": [
    "### 7. "
   ]
  },
  {
   "cell_type": "code",
   "execution_count": 192,
   "id": "6f5a28b3-e8cd-462e-a0e3-61cf79a9df56",
   "metadata": {},
   "outputs": [
    {
     "name": "stdout",
     "output_type": "stream",
     "text": [
      "******************************\n",
      "Sistema de gestion de facturas\n",
      "******************************\n",
      "1. Agregar Factura\n",
      "2. Pagar Factura\n",
      "3. Listar Facturas\n",
      "4. Salir\n"
     ]
    },
    {
     "name": "stdin",
     "output_type": "stream",
     "text": [
      "Ingrese Una opción (Ej. 1 ó 2):  1\n",
      "Ingrese el número de factura:  1000\n",
      "Ingrese importe de factura:  56\n"
     ]
    },
    {
     "name": "stdout",
     "output_type": "stream",
     "text": [
      "******************************\n",
      "Facturas\n",
      "Factura #: 1000 - Valor: 56.0\n",
      "******************************\n",
      "******************************\n",
      "Sistema de gestion de facturas\n",
      "******************************\n",
      "1. Agregar Factura\n",
      "2. Pagar Factura\n",
      "3. Listar Facturas\n",
      "4. Salir\n"
     ]
    },
    {
     "name": "stdin",
     "output_type": "stream",
     "text": [
      "Ingrese Una opción (Ej. 1 ó 2):  2\n",
      "Ingrese # Factura a eliminar:  1000\n"
     ]
    },
    {
     "name": "stdout",
     "output_type": "stream",
     "text": [
      "Fatura: 1000 pagada!\n",
      "******************************\n",
      "******************************\n",
      "Sistema de gestion de facturas\n",
      "******************************\n",
      "1. Agregar Factura\n",
      "2. Pagar Factura\n",
      "3. Listar Facturas\n",
      "4. Salir\n"
     ]
    },
    {
     "name": "stdin",
     "output_type": "stream",
     "text": [
      "Ingrese Una opción (Ej. 1 ó 2):  3\n"
     ]
    },
    {
     "name": "stdout",
     "output_type": "stream",
     "text": [
      "Facturas\n",
      "******************************\n",
      "******************************\n",
      "Sistema de gestion de facturas\n",
      "******************************\n",
      "1. Agregar Factura\n",
      "2. Pagar Factura\n",
      "3. Listar Facturas\n",
      "4. Salir\n"
     ]
    },
    {
     "name": "stdin",
     "output_type": "stream",
     "text": [
      "Ingrese Una opción (Ej. 1 ó 2):  4\n"
     ]
    },
    {
     "name": "stdout",
     "output_type": "stream",
     "text": [
      "Saliendo...\n"
     ]
    }
   ],
   "source": [
    "#Programa para gestión de facturación\n",
    "from os import system\n",
    "\n",
    "lista_facturas = []\n",
    "\n",
    "def agregar_factura():\n",
    "    dict_facturas = {}\n",
    "    noFactura = int(input('Ingrese el número de factura: '))\n",
    "    if noFactura < 1000 or noFactura > 9999:\n",
    "        print('Debe ingresar un número de factura de 4 dígitos')\n",
    "        return\n",
    "    monFactura = float(input('Ingrese importe de factura: '))\n",
    "    dict_facturas[\"NoFactura\"] = noFactura\n",
    "    dict_facturas[\"MonFactura\"] = monFactura\n",
    "    lista_facturas.append(dict_facturas)\n",
    "    print(30*'*')\n",
    "    listar_facturas()\n",
    "    \n",
    "\n",
    "def pagar_factura():\n",
    "    eliminar_factura()\n",
    "\n",
    "def listar_facturas():\n",
    "    print('Facturas')\n",
    "    for i in lista_facturas:\n",
    "        print(f'Factura #: {i[\"NoFactura\"]} - Valor: {i[\"MonFactura\"]}' )\n",
    "\n",
    "def eliminar_factura():\n",
    "    NoFactura = int(input('Ingrese # Factura a eliminar: '))\n",
    "    for i in range(len(lista_facturas)):\n",
    "        if lista_facturas[i][\"NoFactura\"] == NoFactura:\n",
    "            del lista_facturas[i]\n",
    "            print(f'Fatura: {NoFactura} pagada!')\n",
    "            return\n",
    "    print(f'Factuna: {NoFactura} no encontrada')\n",
    "\n",
    "def menu():\n",
    "    print(30*'*')\n",
    "    print('Sistema de gestion de facturas')\n",
    "    print(30*'*')\n",
    "    print('1. Agregar Factura')\n",
    "    print('2. Pagar Factura')\n",
    "    print('3. Listar Facturas')\n",
    "    print('4. Salir')\n",
    "    \n",
    "try:\n",
    "    while True:\n",
    "        #clear_output()\n",
    "        menu()\n",
    "    \n",
    "        opcion = int(input('Ingrese Una opción (Ej. 1 ó 2): '))\n",
    "        \n",
    "        if opcion == 1:\n",
    "            agregar_factura()\n",
    "        elif opcion == 2:\n",
    "            pagar_factura()\n",
    "        elif opcion == 3:\n",
    "            listar_facturas()\n",
    "        elif opcion == 4:\n",
    "            print('Saliendo...')\n",
    "            break\n",
    "        else:\n",
    "            print('Opción incorrecta!!')\n",
    "        print(30*'*')\n",
    "except:\n",
    "    print('Opción no válida!')"
   ]
  },
  {
   "cell_type": "markdown",
   "id": "07a939cc-be56-40c7-88e1-31a33797d529",
   "metadata": {},
   "source": [
    "### 8."
   ]
  },
  {
   "cell_type": "code",
   "execution_count": 8,
   "id": "9e7620b7-5ac7-47ac-8b8b-d0f40e74bdcf",
   "metadata": {},
   "outputs": [],
   "source": [
    "#Función baraja de pocker\n",
    "import random\n",
    "def baraja_pocker():\n",
    "    s = {'T01','T02','T03','T04','T05','T06','T07','T08','T09','T10','T11','T12','T13',\n",
    "         'C01','C02','C03','C04','C05','C06','C07','C08','C09','C10','C11','C12','C13',\n",
    "         'P01','P02','P03','P04','P05','P06','P07','P08','P09','P10','P11','P12','P13',\n",
    "         'E01','E02','E03','E04','E05','E06','E07','E08','E09','E10','E11','E12','E13',}\n",
    "    return s\n",
    "\n",
    "def probabilidades_sets():\n",
    "    E = baraja_pocker() #Espacio muestral\n",
    "    s1 = baraja_pocker() \n",
    "    s1 = list(s1)[:random.randint(1,len(s1))]\n",
    "    s2 = baraja_pocker()\n",
    "    s2 = list(s2)[:random.randint(1,len(s2))]\n",
    "\n",
    "    #Probabilidad de la intersección de s1 y s2\n",
    "    pS1 = len(s1)/len(E) #Probabilidad del ser 1 P(A) = Card A / Card. Espacio muestral\n",
    "    pS2 = len(s2)/len(E) #Probabilidad del set 2 P(B) = Card B / Card. Espacio muestral \n",
    "    pr_interseccion = pS1*pS2 #Regla del producto\n",
    "\n",
    "    #Probabilidad de la union\n",
    "    pr_union = pS1 + pS2 - pr_interseccion #Regla de la adición \n",
    "    \n",
    "    print(f'La probabilidad de la intersección es: {round(pr_interseccion*100,2)}% y con eventos independientes')\n",
    "    print(f'La probabilidad de la Unión es: {round(pr_union*100,2)}%')\n",
    "\n",
    "    "
   ]
  },
  {
   "cell_type": "code",
   "execution_count": 9,
   "id": "4c00df26-5bf1-4e9b-9b57-f4216aabcb9a",
   "metadata": {},
   "outputs": [
    {
     "name": "stdout",
     "output_type": "stream",
     "text": [
      "La probabilidad de la intersección es: 19.23% y con eventos independientes\n",
      "La probabilidad de la Unión es: 100.0%\n"
     ]
    }
   ],
   "source": [
    "probabilidades_sets()"
   ]
  }
 ],
 "metadata": {
  "kernelspec": {
   "display_name": "Python 3 (ipykernel)",
   "language": "python",
   "name": "python3"
  },
  "language_info": {
   "codemirror_mode": {
    "name": "ipython",
    "version": 3
   },
   "file_extension": ".py",
   "mimetype": "text/x-python",
   "name": "python",
   "nbconvert_exporter": "python",
   "pygments_lexer": "ipython3",
   "version": "3.11.7"
  }
 },
 "nbformat": 4,
 "nbformat_minor": 5
}
